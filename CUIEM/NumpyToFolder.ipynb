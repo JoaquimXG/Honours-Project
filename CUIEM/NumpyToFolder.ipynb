{
 "cells": [
  {
   "cell_type": "markdown",
   "id": "ddb6f97b-506f-4f0b-a1ce-f6086e8ef9cb",
   "metadata": {},
   "source": [
    "# Converting .npy data format files\n",
    "\n",
    "Converting files into class folders for use with standard processing pipeline."
   ]
  },
  {
   "cell_type": "markdown",
   "id": "0daf3259-9fa8-45e7-9737-10466d1bdf9a",
   "metadata": {},
   "source": [
    "## Imports"
   ]
  },
  {
   "cell_type": "code",
   "execution_count": 43,
   "id": "ed62ecd9-4b1a-4205-90ca-bb3d564f6364",
   "metadata": {
    "tags": []
   },
   "outputs": [],
   "source": [
    "# Genearl\n",
    "import os\n",
    "from os import path\n",
    "import shutil\n",
    "from tqdm.notebook import tqdm\n",
    "\n",
    "# Data processing\n",
    "import numpy as np\n",
    "\n",
    "# Image\n",
    "import PIL\n",
    "from PIL import Image"
   ]
  },
  {
   "cell_type": "markdown",
   "id": "65b4d457-81e8-46da-bd39-0f2d096dd6d4",
   "metadata": {},
   "source": [
    "## Constants and paths\n"
   ]
  },
  {
   "cell_type": "code",
   "execution_count": 63,
   "id": "59af9ccb-d75b-46f3-a059-2ca9f7269a0c",
   "metadata": {
    "tags": []
   },
   "outputs": [],
   "source": [
    "FILE_FORMAT = \".png\"\n",
    "\n",
    "numpy_data_path = \"./numpy-data\"\n",
    "out_data_path = \"./data\"\n",
    "out_train_path = path.join(out_data_path, \"train\")\n",
    "out_test_path = path.join(out_data_path, \"test\")\n",
    "\n",
    "class_map = {\n",
    "    0: 'covid',\n",
    "    1: 'normal',\n",
    "}\n",
    "\n",
    "x_y_paths = {\n",
    "    'x_train': path.join(numpy_data_path, \"Btrain_images.npy\"),\n",
    "    'y_train': path.join(numpy_data_path, \"Btrain_labels.npy\"),\n",
    "    'x_test': path.join(numpy_data_path, \"test_images.npy\"),\n",
    "    'y_test': path.join(numpy_data_path, \"test_labels.npy\"),\n",
    "    'x_valid': path.join(numpy_data_path, \"val_images.npy\"),\n",
    "    'y_valid': path.join(numpy_data_path, \"val_labels.npy\"),\n",
    "}"
   ]
  },
  {
   "cell_type": "markdown",
   "id": "4488b837-c3d6-4523-a2c5-e80f0f5c97b9",
   "metadata": {},
   "source": [
    "## Get datasets"
   ]
  },
  {
   "cell_type": "code",
   "execution_count": 64,
   "id": "256fb527-3d81-4021-8e6a-3b27ec130b10",
   "metadata": {
    "tags": []
   },
   "outputs": [],
   "source": [
    "x_y_npy = {k: np.load(v) for k,v in x_y_paths.items()}"
   ]
  },
  {
   "cell_type": "markdown",
   "id": "b19856cd-4ac7-4d8b-b4f6-3f57ea5fd090",
   "metadata": {},
   "source": [
    "## Setup output folder"
   ]
  },
  {
   "cell_type": "code",
   "execution_count": 73,
   "id": "3b18c633-0a05-4dbc-843a-db02b2b37136",
   "metadata": {},
   "outputs": [],
   "source": [
    "def setup_output_folder():\n",
    "    # Clear out_data_path\n",
    "    shutil.rmtree(out_data_path, ignore_errors=True)\n",
    "    os.makedirs(out_data_path, exist_ok=True)\n",
    "\n",
    "    # Create train and test with class paths\n",
    "    for label in class_map.values():\n",
    "        os.makedirs(path.join(out_test_path, label))\n",
    "        os.makedirs(path.join(out_train_path, label))"
   ]
  },
  {
   "cell_type": "markdown",
   "id": "14b71ff8-4604-4d86-acfd-dae7a12d6162",
   "metadata": {},
   "source": [
    "## Convert"
   ]
  },
  {
   "cell_type": "code",
   "execution_count": 75,
   "id": "b58dbe26-f84a-420c-9ca3-5be02113e508",
   "metadata": {
    "tags": []
   },
   "outputs": [],
   "source": [
    "def get_image_from_npy(ndarray, i):\n",
    "    im = ndarray[i]\n",
    "    im = (im*255).astype(np.uint8)\n",
    "    return Image.fromarray(im)\n",
    "\n",
    "def save_image_from_npy(folder, npy, idx, prefix):\n",
    "    im = get_image_from_npy(npy, idx)\n",
    "    _path = path.join(folder, \"{prefix}-{:04d}{file_format}\".format(idx+1, prefix=prefix, file_format=FILE_FORMAT))\n",
    "    im.save(_path)"
   ]
  },
  {
   "cell_type": "code",
   "execution_count": 78,
   "id": "fb0abfe0-232b-4132-a11b-5d41893351de",
   "metadata": {
    "tags": []
   },
   "outputs": [],
   "source": [
    "def convert_to_folder(x, y, prefix, category=\"train\"):\n",
    "    for i, _y in tqdm(enumerate(y)):\n",
    "        label = class_map[_y]\n",
    "        save_image_from_npy(path.join(out_data_path, category, label), x, i, prefix)"
   ]
  },
  {
   "cell_type": "code",
   "execution_count": 79,
   "id": "d983bf08-d376-4e1e-b08a-600e792ebe90",
   "metadata": {
    "tags": []
   },
   "outputs": [
    {
     "data": {
      "application/vnd.jupyter.widget-view+json": {
       "model_id": "e1351dcf17304162879279071ae16ed8",
       "version_major": 2,
       "version_minor": 0
      },
      "text/plain": [
       "0it [00:00, ?it/s]"
      ]
     },
     "metadata": {},
     "output_type": "display_data"
    },
    {
     "data": {
      "application/vnd.jupyter.widget-view+json": {
       "model_id": "6f9d33da4e85409399bffcce09138dd1",
       "version_major": 2,
       "version_minor": 0
      },
      "text/plain": [
       "0it [00:00, ?it/s]"
      ]
     },
     "metadata": {},
     "output_type": "display_data"
    },
    {
     "data": {
      "application/vnd.jupyter.widget-view+json": {
       "model_id": "6133a73a3a79415d8bd14a384ff817c8",
       "version_major": 2,
       "version_minor": 0
      },
      "text/plain": [
       "0it [00:00, ?it/s]"
      ]
     },
     "metadata": {},
     "output_type": "display_data"
    }
   ],
   "source": [
    "setup_output_folder()\n",
    "convert_to_folder(x_y_npy['x_train'], x_y_npy['y_train'], \"train\", category=\"train\")\n",
    "convert_to_folder(x_y_npy['x_valid'], x_y_npy['y_valid'], \"valid\", category=\"train\")\n",
    "convert_to_folder(x_y_npy['x_test'], x_y_npy['y_test'], \"test\", category=\"test\")"
   ]
  }
 ],
 "metadata": {
  "environment": {
   "kernel": "python3",
   "name": "tf2-gpu.2-11.m104",
   "type": "gcloud",
   "uri": "gcr.io/deeplearning-platform-release/tf2-gpu.2-11:m104"
  },
  "kernelspec": {
   "display_name": "Python 3 (ipykernel)",
   "language": "python",
   "name": "python3"
  },
  "language_info": {
   "codemirror_mode": {
    "name": "ipython",
    "version": 3
   },
   "file_extension": ".py",
   "mimetype": "text/x-python",
   "name": "python",
   "nbconvert_exporter": "python",
   "pygments_lexer": "ipython3",
   "version": "3.7.12"
  }
 },
 "nbformat": 4,
 "nbformat_minor": 5
}
